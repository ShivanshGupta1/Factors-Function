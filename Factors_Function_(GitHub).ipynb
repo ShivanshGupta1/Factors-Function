{
  "nbformat": 4,
  "nbformat_minor": 0,
  "metadata": {
    "colab": {
      "name": "Factors Function (GitHub).ipynb",
      "provenance": [],
      "authorship_tag": "ABX9TyM6YeMr29S6R2QGzGtgmzlV",
      "include_colab_link": true
    },
    "kernelspec": {
      "name": "python3",
      "display_name": "Python 3"
    }
  },
  "cells": [
    {
      "cell_type": "markdown",
      "metadata": {
        "id": "view-in-github",
        "colab_type": "text"
      },
      "source": [
        "<a href=\"https://colab.research.google.com/github/ShivanshGupta1/Factors-Function/blob/main/Factors_Function_(GitHub).ipynb\" target=\"_parent\"><img src=\"https://colab.research.google.com/assets/colab-badge.svg\" alt=\"Open In Colab\"/></a>"
      ]
    },
    {
      "cell_type": "code",
      "metadata": {
        "id": "NcuITj2ZfyoS"
      },
      "source": [
        "def factors(m):\n",
        "  any = 1\n",
        "  l =[]\n",
        "  while any<=m:\n",
        "    if m%any==0:\n",
        "      l.append(any)\n",
        "    any+=1\n",
        "  print(l)  \n",
        "m = int(input('Number: '))\n",
        "factors(m)"
      ],
      "execution_count": null,
      "outputs": []
    }
  ]
}